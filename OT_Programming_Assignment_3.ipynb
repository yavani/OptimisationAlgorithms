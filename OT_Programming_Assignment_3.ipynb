{
  "nbformat": 4,
  "nbformat_minor": 0,
  "metadata": {
    "colab": {
      "name": "OT Programming Assignment 3.ipynb",
      "provenance": [],
      "authorship_tag": "ABX9TyO/tK9mrRvt/cof5HfgYd0k",
      "include_colab_link": true
    },
    "kernelspec": {
      "name": "python3",
      "display_name": "Python 3"
    },
    "language_info": {
      "name": "python"
    }
  },
  "cells": [
    {
      "cell_type": "markdown",
      "metadata": {
        "id": "view-in-github",
        "colab_type": "text"
      },
      "source": [
        "<a href=\"https://colab.research.google.com/github/yavani/OptimisationAlgorithms/blob/main/OT_Programming_Assignment_3.ipynb\" target=\"_parent\"><img src=\"https://colab.research.google.com/assets/colab-badge.svg\" alt=\"Open In Colab\"/></a>"
      ]
    },
    {
      "cell_type": "markdown",
      "source": [
        "1. SVO-INTERVAL HALVING METHOD(Direct search region elimination)\n",
        "e.g: x^2+54/x , (0,5), tol=0.4"
      ],
      "metadata": {
        "id": "0DV08jLtyAow"
      }
    },
    {
      "cell_type": "code",
      "execution_count": null,
      "metadata": {
        "colab": {
          "base_uri": "https://localhost:8080/",
          "height": 300
        },
        "id": "3brAUPlbRRRm",
        "outputId": "92b1a46f-d699-4e1c-ace3-3085288d9696"
      },
      "outputs": [
        {
          "name": "stdout",
          "output_type": "stream",
          "text": [
            "***** INTERVAL HALVING METHOD *****\n",
            "enter lower bound-2\n",
            "enter upper bound2\n",
            "enter the value of tol0.0001\n"
          ]
        },
        {
          "output_type": "error",
          "ename": "ZeroDivisionError",
          "evalue": "ignored",
          "traceback": [
            "\u001b[0;31m---------------------------------------------------------------------------\u001b[0m",
            "\u001b[0;31mZeroDivisionError\u001b[0m                         Traceback (most recent call last)",
            "\u001b[0;32m<ipython-input-3-501b85f97e5a>\u001b[0m in \u001b[0;36m<module>\u001b[0;34m()\u001b[0m\n\u001b[1;32m     12\u001b[0m \u001b[0mfx1\u001b[0m\u001b[0;34m=\u001b[0m\u001b[0mx1\u001b[0m\u001b[0;34m*\u001b[0m\u001b[0mx1\u001b[0m\u001b[0;34m+\u001b[0m\u001b[0;36m54\u001b[0m\u001b[0;34m/\u001b[0m\u001b[0mx1\u001b[0m\u001b[0;34m\u001b[0m\u001b[0;34m\u001b[0m\u001b[0m\n\u001b[1;32m     13\u001b[0m \u001b[0mfx2\u001b[0m\u001b[0;34m=\u001b[0m\u001b[0mx2\u001b[0m\u001b[0;34m*\u001b[0m\u001b[0mx2\u001b[0m\u001b[0;34m+\u001b[0m\u001b[0;36m54\u001b[0m\u001b[0;34m/\u001b[0m\u001b[0mx2\u001b[0m\u001b[0;34m\u001b[0m\u001b[0;34m\u001b[0m\u001b[0m\n\u001b[0;32m---> 14\u001b[0;31m \u001b[0mfxm\u001b[0m\u001b[0;34m=\u001b[0m\u001b[0mxm\u001b[0m\u001b[0;34m*\u001b[0m\u001b[0mxm\u001b[0m\u001b[0;34m+\u001b[0m\u001b[0;36m54\u001b[0m\u001b[0;34m/\u001b[0m\u001b[0mxm\u001b[0m\u001b[0;34m\u001b[0m\u001b[0;34m\u001b[0m\u001b[0m\n\u001b[0m\u001b[1;32m     15\u001b[0m \u001b[0mprint\u001b[0m\u001b[0;34m(\u001b[0m\u001b[0mx1\u001b[0m\u001b[0;34m,\u001b[0m\u001b[0mx2\u001b[0m\u001b[0;34m,\u001b[0m\u001b[0mfx1\u001b[0m\u001b[0;34m,\u001b[0m\u001b[0mfx2\u001b[0m\u001b[0;34m,\u001b[0m\u001b[0mfxm\u001b[0m\u001b[0;34m)\u001b[0m\u001b[0;34m\u001b[0m\u001b[0;34m\u001b[0m\u001b[0m\n\u001b[1;32m     16\u001b[0m \u001b[0;34m\u001b[0m\u001b[0m\n",
            "\u001b[0;31mZeroDivisionError\u001b[0m: float division by zero"
          ]
        }
      ],
      "source": [
        "import time\n",
        "import math\n",
        "print(\"***** INTERVAL HALVING METHOD *****\")\n",
        "a= int(input(\"enter lower bound\"))\n",
        "b=int(input(\"enter upper bound\"))\n",
        "tol=float(input(\"enter the value of tol\")) # termination parameter\n",
        "\n",
        "l=abs(b-a)\n",
        "xm=(a+b)/2\n",
        "x1=a+l/4\n",
        "x2=b-l/4\n",
        "fx1=x1*x1+54/x1\n",
        "fx2=x2*x2+54/x2\n",
        "fxm=xm*xm+54/xm\n",
        "print(x1,x2,fx1,fx2,fxm)\n",
        "\n",
        "\n",
        "while l>=tol:\n",
        "  \n",
        "    print(\"hi\",l,tol,a,b)\n",
        "    \n",
        "    \n",
        "    l=abs(b-a)\n",
        "    x1=a+l/4    \n",
        "    x2=b-l/4\n",
        "    fx1=x1*x1+54/x1\n",
        "    fx2=x2*x2+54/x2\n",
        "    if fx1<=fxm:\n",
        "        b = xm\n",
        "        xm = x1\n",
        "        fxm = fx1;\n",
        "    \n",
        "    elif fx2<=fxm:\n",
        "        a = xm;\n",
        "        xm = x2;\n",
        "        fxm = fx2;\n",
        "        \n",
        "    else:\n",
        "        a = x1;\n",
        "        b = x2;\n",
        "    \n",
        "    time.sleep(3)\n",
        "    \n",
        "\n",
        "print(' the minimum lies between a and b ',a,b);"
      ]
    },
    {
      "cell_type": "code",
      "source": [
        "import time\n",
        "import math\n",
        "print(\"***** INTERVAL HALVING METHOD *****\")\n",
        "a= int(input(\"enter lower bound\"))\n",
        "b=int(input(\"enter upper bound\"))\n",
        "tol=float(input(\"enter the value of tol\")) # termination parameter\n",
        "\n",
        "l=abs(b-a)\n",
        "xm=(a+b)/2\n",
        "x1=a+l/4\n",
        "x2=b-l/4\n",
        "fx1=math.sin(x1)+4*x1**2\n",
        "fx2=math.sin(x2)+4*x2**2\n",
        "fxm=math.sin(xm)+4*xm**2\n",
        "print(x1,x2,fx1,fx2,fxm)\n",
        "\n",
        "\n",
        "while l>=tol:\n",
        "  \n",
        "    print(\"hi\",l,tol,a,b)\n",
        "    \n",
        "    \n",
        "    l=abs(b-a)\n",
        "    x1=a+l/4    \n",
        "    x2=b-l/4\n",
        "    fx1=math.sin(x1)+4*x1**2\n",
        "    fx2=math.sin(x2)+4*x2**2\n",
        "    if fx1<=fxm:\n",
        "        b = xm\n",
        "        xm = x1\n",
        "        fxm = fx1;\n",
        "    \n",
        "    elif fx2<=fxm:\n",
        "        a = xm;\n",
        "        xm = x2;\n",
        "        fxm = fx2;\n",
        "        \n",
        "    else:\n",
        "        a = x1;\n",
        "        b = x2;\n",
        "    \n",
        "    time.sleep(3)\n",
        "    \n",
        "\n",
        "print(' the minimum lies between a and b ',a,b);"
      ],
      "metadata": {
        "colab": {
          "base_uri": "https://localhost:8080/",
          "height": 572
        },
        "id": "d2vOatpFI-jj",
        "outputId": "1d9b2646-d486-46b0-b961-f7a4dc4932e4"
      },
      "execution_count": null,
      "outputs": [
        {
          "output_type": "stream",
          "name": "stdout",
          "text": [
            "***** INTERVAL HALVING METHOD *****\n",
            "enter lower bound-2\n",
            "enter upper bound2\n",
            "enter the value of tol0.0001\n",
            "-1.0 1.0 3.1585290151921033 4.841470984807897 0.0\n",
            "hi 4 0.0001 -2 2\n",
            "hi 4 0.0001 -1.0 1.0\n",
            "hi 2.0 0.0001 -0.5 0.5\n",
            "hi 1.0 0.0001 -0.25 0.25\n",
            "hi 0.5 0.0001 -0.25 0.0\n",
            "hi 0.25 0.0001 -0.1875 -0.0625\n",
            "hi 0.125 0.0001 -0.15625 -0.09375\n",
            "hi 0.0625 0.0001 -0.140625 -0.109375\n",
            "hi 0.03125 0.0001 -0.1328125 -0.1171875\n",
            "hi 0.015625 0.0001 -0.12890625 -0.12109375\n",
            "hi 0.0078125 0.0001 -0.126953125 -0.123046875\n",
            "hi 0.00390625 0.0001 -0.125 -0.123046875\n",
            "hi 0.001953125 0.0001 -0.12451171875 -0.12353515625\n",
            "hi 0.0009765625 0.0001 -0.124267578125 -0.123779296875\n",
            "hi 0.00048828125 0.0001 -0.1241455078125 -0.1239013671875\n"
          ]
        },
        {
          "output_type": "error",
          "ename": "KeyboardInterrupt",
          "evalue": "ignored",
          "traceback": [
            "\u001b[0;31m---------------------------------------------------------------------------\u001b[0m",
            "\u001b[0;31mKeyboardInterrupt\u001b[0m                         Traceback (most recent call last)",
            "\u001b[0;32m<ipython-input-5-d2f8a50e2d23>\u001b[0m in \u001b[0;36m<module>\u001b[0;34m()\u001b[0m\n\u001b[1;32m     40\u001b[0m         \u001b[0mb\u001b[0m \u001b[0;34m=\u001b[0m \u001b[0mx2\u001b[0m\u001b[0;34m;\u001b[0m\u001b[0;34m\u001b[0m\u001b[0;34m\u001b[0m\u001b[0m\n\u001b[1;32m     41\u001b[0m \u001b[0;34m\u001b[0m\u001b[0m\n\u001b[0;32m---> 42\u001b[0;31m     \u001b[0mtime\u001b[0m\u001b[0;34m.\u001b[0m\u001b[0msleep\u001b[0m\u001b[0;34m(\u001b[0m\u001b[0;36m3\u001b[0m\u001b[0;34m)\u001b[0m\u001b[0;34m\u001b[0m\u001b[0;34m\u001b[0m\u001b[0m\n\u001b[0m\u001b[1;32m     43\u001b[0m \u001b[0;34m\u001b[0m\u001b[0m\n\u001b[1;32m     44\u001b[0m \u001b[0;34m\u001b[0m\u001b[0m\n",
            "\u001b[0;31mKeyboardInterrupt\u001b[0m: "
          ]
        }
      ]
    },
    {
      "cell_type": "markdown",
      "source": [
        "INTERVAL HALVING METHOD Ex 2:  x^4-5x^3+2e^x-5cos3x , interval(1,5) for 3 iterations"
      ],
      "metadata": {
        "id": "YZstzEw40iPB"
      }
    },
    {
      "cell_type": "code",
      "source": [
        "import time\n",
        "import math\n",
        "print(\"***** INTERVAL HALVING METHOD *****\")\n",
        "a= int(input(\"enter lower bound\"))\n",
        "b=int(input(\"enter upper bound\"))\n",
        "#tol=float(input(\"enter the value of tol\"))\n",
        "\n",
        "l=abs(b-a)\n",
        "xm=(a+b)/2\n",
        "x1=a+l/4\n",
        "x2=b-l/4\n",
        "fx1=x1**4-5*x1**3+2*math.exp(x1)-5*math.cos(3*x1)\n",
        "fx2=x2**4-5*x2**3+2*math.exp(x2)-5*math.cos(3*x2)\n",
        "fxm=xm**4-5*xm**3+2*math.exp(xm)-5*math.cos(3*xm)\n",
        "print(x1,x2,fx1,fx2,fxm)\n",
        "\n",
        "maxiter=3\n",
        "while maxiter:\n",
        "  \n",
        "    print(\"hi\",l,a,b)\n",
        "    \n",
        "    l=abs(b-a)\n",
        "    x1=a+l/4    \n",
        "    x2=b-l/4\n",
        "    fx1=x1**4-5*x1**3+2*math.exp(x1)-5*math.cos(3*x1)\n",
        "    fx2=x2**4-5*x2**3+2*math.exp(x2)-5*math.cos(3*x2)\n",
        "    if fx1<=fxm:\n",
        "        b = xm\n",
        "        xm = x1\n",
        "        fxm = fx1;\n",
        "    \n",
        "    elif fx2<=fxm:\n",
        "        a = xm;\n",
        "        xm = x2;\n",
        "        fxm = fx2;\n",
        "        \n",
        "    else:\n",
        "        a = x1;\n",
        "        b = x2;\n",
        "   # print(\"iteration\",maxiter)\n",
        "    maxiter=maxiter-1\n",
        "    \n",
        "    #time.sleep(3)\n",
        "    \n",
        "\n",
        "print(' the minimum lies between a and b ',a,b);"
      ],
      "metadata": {
        "colab": {
          "base_uri": "https://localhost:8080/"
        },
        "id": "e68nwbUgj7Fy",
        "outputId": "fc2b63fe-3df5-4aea-b68c-f1187ddd215d"
      },
      "execution_count": null,
      "outputs": [
        {
          "output_type": "stream",
          "name": "stdout",
          "text": [
            "***** INTERVAL HALVING METHOD *****\n",
            "enter lower bound1\n",
            "enter upper bound5\n",
            "2.0 4.0 -14.022739235390528 40.97703027262601 -9.273274844201278\n",
            "hi 4 1 5\n",
            "hi 4 1 3.0\n",
            "hi 2.0 2.0 3.0\n",
            " the minima lies between a and b  2.0 2.5\n"
          ]
        }
      ]
    },
    {
      "cell_type": "markdown",
      "source": [
        "Ex 3: How many iterations are needed to get a minimum of a function f(x) using interval halving method in the interval (200,212)with a termination parameter ε= 0.7."
      ],
      "metadata": {
        "id": "McFrrpQz1hP0"
      }
    },
    {
      "cell_type": "code",
      "source": [
        "#length of the given interval = b-a\n",
        "#length of final interval after n iterations = b-a/z^n =0.5^n(b-a)\n",
        "#Totally 2N+1 function evaluations are needed in n iterations\n",
        "\n",
        "\n",
        "a=200\n",
        "b=212\n",
        "t=0.7\n",
        "l=b-a\n",
        "for i in range(1,10):\n",
        "  #t=0.7\n",
        "  l1=l/(2**i)\n",
        "  print(\"length of interval at ith iteration\",l1,i)\n",
        "  if l1<t:\n",
        "    break\n",
        "print(\"num of iteration required are i and length is \",i,l1)\n",
        "fevaluations=2*i+1\n",
        "print(\"total no of function evaluations required are\",fevaluations)"
      ],
      "metadata": {
        "colab": {
          "base_uri": "https://localhost:8080/"
        },
        "id": "X-JlrEF51myi",
        "outputId": "ea26940e-45fb-44ec-93f7-27d3f17108b8"
      },
      "execution_count": null,
      "outputs": [
        {
          "output_type": "stream",
          "name": "stdout",
          "text": [
            "length of interval at ith iteration 6.0 1\n",
            "length of interval at ith iteration 3.0 2\n",
            "length of interval at ith iteration 1.5 3\n",
            "length of interval at ith iteration 0.75 4\n",
            "length of interval at ith iteration 0.375 5\n",
            "num of iteration required are i and length is  5 0.375\n",
            "total no of function evaluations required are 11\n"
          ]
        }
      ]
    },
    {
      "cell_type": "markdown",
      "source": [
        "SVO-Direct searchExhaustive Search Method (Bracketing method)\n",
        "1. x^+54/x\n"
      ],
      "metadata": {
        "id": "N--a9TDyzQMl"
      }
    },
    {
      "cell_type": "code",
      "source": [
        "\n",
        "\n",
        "print(\"Single variable optimization algorithm (Exhaustive Search Method)\")\n",
        "a=0;\n",
        "b=5;\n",
        "n=10;\n",
        "Del=(b-a)/n\n",
        "x1=0;\n",
        "x2=x1+Del\n",
        "x3=x2+Del\n",
        "while x3<=b:\n",
        "    #print(\"hi\")\n",
        "    try:\n",
        "      f1=x1**2+(54/x1)\n",
        "      f2=x2**2+(54/x2)\n",
        "      f3=x3**2+(54/x3)  \n",
        "    except ZeroDivisionError:\n",
        "      f1=0\n",
        "      f2=0\n",
        "      f3=0\n",
        "    \n",
        "    if f1>= f2 and f2<=f3:\n",
        "      print(\"The minimum point lie between the interval %d  and  %d.\\n\",x1,x3);\n",
        "      print('The optimal solution is %d , which is at x =  %d .\\n',f2,x2);  \n",
        "      break \n",
        "    else:\n",
        "      print('The minimum does not lie between the interval %d  and  %d.\\n',x1,x3); \n",
        "\n",
        "    x1=x2;\n",
        "    x2=x3;\n",
        "    x3=x2+Del;\n",
        "\n"
      ],
      "metadata": {
        "colab": {
          "base_uri": "https://localhost:8080/"
        },
        "id": "6Dn0xAxJVuxr",
        "outputId": "e69ebf99-c7d3-4cc1-9d21-0805133d5219"
      },
      "execution_count": null,
      "outputs": [
        {
          "output_type": "stream",
          "name": "stdout",
          "text": [
            "Single variable optimization algorithm (Exhaustive Search Method)\n",
            "The minimum point lie between the interval %d  and  %d.\n",
            " 0 1.0\n",
            "The optimal solution is %d , which is at x =  %d .\n",
            " 0 0.5\n"
          ]
        }
      ]
    },
    {
      "cell_type": "markdown",
      "source": [
        "Ex 2:  Bracket an interval of length 0.4 in which the minimum of f(x) lies in [3,5]using exhaustive search\n",
        "-3x^3sin2x+4xcos3x+2x , interval(3,5)"
      ],
      "metadata": {
        "id": "eqSSJASO8bSM"
      }
    },
    {
      "cell_type": "code",
      "source": [
        "import math\n",
        "print(\"Single variable optimization algorithm (Exhaustive Search Method)\")\n",
        "a=3;\n",
        "b=5;\n",
        "n=10;   # 2deltax=0.4 ,so deltax=0.2, deltax=b-a/n, so n=10\n",
        "Del=(b-a)/n\n",
        "x1=a;\n",
        "x2=x1+Del\n",
        "x3=x2+Del\n",
        "while x3<=b:\n",
        "    #print(\"hi\")\n",
        "    \n",
        "    f1=-3*x1**3*math.sin(2*x1)+4*x1*math.cos(3*x1)+2*x1\n",
        "    f2=-3*x2**3*math.sin(2*x2)+4*x2*math.cos(3*x2)+2*x2\n",
        "    f3=-3*x3**3*math.sin(2*x3)+4*x3*math.cos(3*x3)+2*x3 \n",
        "    \n",
        "    \n",
        "    if f1>= f2 and f2<=f3:\n",
        "      print(\"The minimum point lie between the interval \\n\",x1,x3);\n",
        "      print(\"The optimal solution is f2 , which is at x2 \\n\",f2,x2);  \n",
        "      break \n",
        "    else:\n",
        "      print('The minimum does not lie between the interval\\n',x1,x3); \n",
        "\n",
        "    x1=x2;\n",
        "    x2=x3;\n",
        "    x3=x2+Del;\n"
      ],
      "metadata": {
        "colab": {
          "base_uri": "https://localhost:8080/"
        },
        "id": "-FqvyXVTt2DU",
        "outputId": "2479c85e-78f2-43fd-cdb9-006db73829ba"
      },
      "execution_count": null,
      "outputs": [
        {
          "output_type": "stream",
          "name": "stdout",
          "text": [
            "Single variable optimization algorithm (Exhaustive Search Method)\n",
            "The minimum does not lie between the interval\n",
            " 3 3.4000000000000004\n",
            "The minimum does not lie between the interval\n",
            " 3.2 3.6000000000000005\n",
            "The minimum does not lie between the interval\n",
            " 3.4000000000000004 3.8000000000000007\n",
            "The minimum does not lie between the interval\n",
            " 3.6000000000000005 4.000000000000001\n",
            "The minimum point lie between the interval \n",
            " 3.8000000000000007 4.200000000000001\n",
            "The optimal solution is f2 , which is at x2 \n",
            " -168.45512001196948 4.000000000000001\n"
          ]
        }
      ]
    },
    {
      "cell_type": "code",
      "source": [
        "''' if length is given e.g 0.4 then 2del=0.4 , \n",
        "    so \n",
        "    2del=0.4,\n",
        "    del=b-a/n\n",
        "    del=0.2\n",
        "    substitute values of a , b and compute n\n",
        "'''\n",
        "\n",
        "import math\n",
        "print(\"Single variable optimization algorithm (Exhaustive Search Method)\")\n",
        "a=3;\n",
        "b=5;\n",
        "n=10;\n",
        "Del=(b-a)/n\n",
        "x1=a;\n",
        "x2=x1+Del\n",
        "x3=x2+Del\n",
        "while x3<=b:\n",
        "    #print(\"hi\")\n",
        "    \n",
        "    f1=-3*x1**3*math.sin(2*x1)+4*x1*math.cos(3*x1)+2*x1\n",
        "    f2=-3*x2**3*math.sin(2*x2)+4*x2*math.cos(3*x2)+2*x2\n",
        "    f3=-3*x3**3*math.sin(2*x3)+4*x3*math.cos(3*x3)+2*x3 \n",
        "    \n",
        "    \n",
        "    if f1>= f2 and f2<=f3:\n",
        "      print(\"The minimum point lie between the interval \\n\",x1,x3);\n",
        "      print(\"The optimal solution is f2 , which is at x2    .\\n\",f2,x2);  \n",
        "      break \n",
        "    else:\n",
        "      print('The minimum does not lie between the interval \\n',x1,x3); \n",
        "\n",
        "    x1=x2;\n",
        "    x2=x3;\n",
        "    x3=x2+Del;\n"
      ],
      "metadata": {
        "colab": {
          "base_uri": "https://localhost:8080/"
        },
        "id": "3Vwz17u7wJk6",
        "outputId": "e0073ecf-2124-454b-874e-121d352b0ee4"
      },
      "execution_count": null,
      "outputs": [
        {
          "output_type": "stream",
          "name": "stdout",
          "text": [
            "Single variable optimization algorithm (Exhaustive Search Method)\n",
            "The minimum does not lie between the interval \n",
            " 3 3.4000000000000004\n",
            "The minimum does not lie between the interval \n",
            " 3.2 3.6000000000000005\n",
            "The minimum does not lie between the interval \n",
            " 3.4000000000000004 3.8000000000000007\n",
            "The minimum does not lie between the interval \n",
            " 3.6000000000000005 4.000000000000001\n",
            "The minimum point lie between the interval \n",
            " 3.8000000000000007 4.200000000000001\n",
            "The optimal solution is f2 , which is at x2    .\n",
            " -168.45512001196948 4.000000000000001\n"
          ]
        }
      ]
    },
    {
      "cell_type": "markdown",
      "source": [
        "example 2 :\n",
        "2del=0.5\n",
        "del=0.25\n",
        "n=b-a/del\n",
        "n=6.5-2.5/0.25\n",
        "n=16\n",
        "\n",
        "find minumum of f(x) in interval (2.5,6.5)\n",
        "f(x)=x^3-48x"
      ],
      "metadata": {
        "id": "US9et0XPxCwO"
      }
    },
    {
      "cell_type": "code",
      "source": [
        "''' if length is given e.g 0.4 then 2del=0.4 , \n",
        "    so \n",
        "    2del=0.4,\n",
        "    del=b-a/n\n",
        "    del=0.2\n",
        "    substitute values of a , b and compute n\n",
        "'''\n",
        "\n",
        "import math\n",
        "print(\"Single variable optimization algorithm (Exhaustive Search Method)\")\n",
        "a=2.5;\n",
        "b=6.5;\n",
        "n=16;\n",
        "Del=(b-a)/n\n",
        "x1=a;\n",
        "x2=x1+Del\n",
        "x3=x2+Del\n",
        "while x3<=b:\n",
        "    #print(\"hi\")\n",
        "    \n",
        "    f1=x1**3-48*x1\n",
        "    f2=x2**3-48*x2\n",
        "    f3=x3**3-48*x3\n",
        "    \n",
        "    \n",
        "    if f1>= f2 and f2<=f3:\n",
        "      print(\"The minimum point lie between the interval x1  and  x3.\\n\",x1,x3);\n",
        "      print(\"The optimal solution is f2 , which is at x2    .\\n\",f2,x2);  \n",
        "      break \n",
        "    else:\n",
        "      print('The minimum does not lie between the interval ',x1,x3); \n",
        "\n",
        "    x1=x2;\n",
        "    x2=x3;\n",
        "    x3=x2+Del;\n"
      ],
      "metadata": {
        "colab": {
          "base_uri": "https://localhost:8080/"
        },
        "id": "siviHmoExBMT",
        "outputId": "1fbda298-2498-401c-aa2d-c764e9440fcb"
      },
      "execution_count": null,
      "outputs": [
        {
          "output_type": "stream",
          "name": "stdout",
          "text": [
            "Single variable optimization algorithm (Exhaustive Search Method)\n",
            "The minimum does not lie between the interval  2.5 3.0\n",
            "The minimum does not lie between the interval  2.75 3.25\n",
            "The minimum does not lie between the interval  3.0 3.5\n",
            "The minimum does not lie between the interval  3.25 3.75\n",
            "The minimum does not lie between the interval  3.5 4.0\n",
            "The minimum point lie between the interval x1  and  x3.\n",
            " 3.75 4.25\n",
            "The optimal solution is f2 , which is at x2    .\n",
            " -128.0 4.0\n"
          ]
        }
      ]
    },
    {
      "cell_type": "code",
      "source": [
        "from sympy import sympify, Symbol\n",
        "import numpy as np\n",
        "x = Symbol('x')\n",
        "y=sympify(input('Type your function:'))\n",
        "#y = x**2 + 1\n",
        "print(y)"
      ],
      "metadata": {
        "colab": {
          "base_uri": "https://localhost:8080/"
        },
        "id": "AfRD7Nkz0l7h",
        "outputId": "cb968416-12f9-44bd-a581-771b8b6138c6"
      },
      "execution_count": null,
      "outputs": [
        {
          "output_type": "stream",
          "name": "stdout",
          "text": [
            "Type your function:x**3+x\n",
            "x**3 + x\n"
          ]
        }
      ]
    },
    {
      "cell_type": "markdown",
      "source": [
        "Gradient Search Methods\n",
        "1. Bisection Method"
      ],
      "metadata": {
        "id": "sFID-tH0_oks"
      }
    },
    {
      "cell_type": "markdown",
      "source": [
        "Ex 1: Bisection method Given𝑓′(−1)<0and𝑓′(1.5)>0,find a minimum for the function fx=𝑥4+10𝑥2+𝑥−𝑒0.2𝑥 by applying three iterationsof bisection method."
      ],
      "metadata": {
        "id": "0Uh8550qBLZR"
      }
    },
    {
      "cell_type": "code",
      "source": [
        "#Bisection Method\n",
        "\n",
        "import math\n",
        "def f(x):\n",
        "  return x**4+10*x**2+x-math.exp(0.2*x)\n",
        "\n",
        "a= int(input(\"enter lower bound \"))\n",
        "b=float(input(\"enter upper bound \"))\n",
        "#Compute f'(a) & f'(b)\n",
        "a1 = a + .000001 * a\n",
        "f_dash_a = (f(a+a1)-f(a-a1))/(2*a1)\n",
        "b1 = b + .000001 * b\n",
        "f_dash_b = (f(b+b1)-f(b-b1))/(2*b1)\n",
        "for i in range(1,4):\n",
        "\n",
        "    if f_dash_a < 0 and f_dash_b > 0:\n",
        "        z = (a+b)/2;\n",
        "        z1 = z + .000001 * z;\n",
        "        f_dash_z = (f(z+z1)-f(z-z1))/(2*z1);\n",
        "        if f_dash_z < 0:\n",
        "            a=z;\n",
        "        elif f_dash_z > 0:\n",
        "            b = z;\n",
        "        \n",
        "    \n",
        "\n",
        "c = a + (b-a)/2;\n",
        "print(\"The minimum value lie between a and b which is c \\n\",a,b,c)\n",
        "        "
      ],
      "metadata": {
        "colab": {
          "base_uri": "https://localhost:8080/"
        },
        "id": "bH-8oMwm_q9a",
        "outputId": "1de56c3b-9c40-4e61-9220-2bd12a9c9601"
      },
      "execution_count": null,
      "outputs": [
        {
          "output_type": "stream",
          "name": "stdout",
          "text": [
            "enter lower bound -1\n",
            "enter upper bound 1.5\n",
            "The minimum value lie between a and b which is c \n",
            " -0.0625 0.25 0.09375\n"
          ]
        }
      ]
    },
    {
      "cell_type": "markdown",
      "source": [
        "Gradient Search Methods\n",
        " Bisection Method Ex2: \n",
        " Find the minimum of 𝑓𝑥=𝑥2+54/𝑥 in the interval (2,5) using bisection method. Choose 𝜀=0.5."
      ],
      "metadata": {
        "id": "4em7Y8krBmKc"
      }
    },
    {
      "cell_type": "code",
      "source": [
        "#Bisection Method\n",
        "\n",
        "import math\n",
        "def f(x):\n",
        "  return x**2+54/x\n",
        "\n",
        "a= int(input(\"enter lower bound \"))\n",
        "b=float(input(\"enter upper bound \"))\n",
        "#Compute f'(a) & f'(b)\n",
        "a1 = a + .000001 * a\n",
        "f_dash_a = (f(a+a1)-f(a-a1))/(2*a1)\n",
        "b1 = b + .000001 * b\n",
        "f_dash_b = (f(b+b1)-f(b-b1))/(2*b1)\n",
        "for i in range(1,5):\n",
        "\n",
        "    if f_dash_a < 0 and f_dash_b > 0:\n",
        "        z = (a+b)/2;\n",
        "        z1 = z + .000001 * z;\n",
        "        f_dash_z = (f(z+z1)-f(z-z1))/(2*z1);\n",
        "        if f_dash_z < 0:\n",
        "            a=z;\n",
        "        elif f_dash_z > 0:\n",
        "            b = z;\n",
        "        \n",
        "    \n",
        "\n",
        "c = a + (b-a)/2;\n",
        "print(\"The minimum value lie between a and b which is c \\n\",a,b,c)"
      ],
      "metadata": {
        "colab": {
          "base_uri": "https://localhost:8080/"
        },
        "id": "gEt-lR4OBsIg",
        "outputId": "534957ac-e7e1-4f98-c502-129d95eae4bf"
      },
      "execution_count": null,
      "outputs": [
        {
          "output_type": "stream",
          "name": "stdout",
          "text": [
            "enter lower bound 2\n",
            "enter upper bound 5\n",
            "The minimum value lie between a and b which is c \n",
            " 2 5.0 3.5\n"
          ]
        }
      ]
    },
    {
      "cell_type": "markdown",
      "source": [
        "Gradient Search Methods  \n",
        "2. Secant Method"
      ],
      "metadata": {
        "id": "q_rRY6ZhCVoZ"
      }
    },
    {
      "cell_type": "code",
      "source": [
        "#secant method\n",
        "print(\"******** SVO Secant Method *********\")\n",
        "import math\n",
        "def f(x):\n",
        "    return math.cos(x)+3*x**2-25*x #Enter the Function here\n",
        "#n=int(input(\"Enter the number of decimal places:\"))\n",
        "\n",
        "a= int(input(\"enter lower bound\"))\n",
        "b=int(input(\"enter upper bound\"))\n",
        "e=float(input(\"enter epsilon\"))\n",
        "#Compute f'(a) & f'(b)\n",
        "maxiter=4\n",
        "while maxiter:\n",
        "    a1 = .01 * a\n",
        "    #print(a1)\n",
        "    f_dash_a = (f(a+a1)-f(a-a1))/(2*a1)\n",
        "    #print(f_dash_a)\n",
        "    b1 = .01 * b\n",
        "    f_dash_b = (f(b+b1)-f(b-b1))/(2*b1)\n",
        "    if f_dash_a < 0 and f_dash_b > 0:\n",
        "      z=b-((b-a)/(f_dash_b-f_dash_a))*f_dash_b\n",
        "      print(z)\n",
        "      z1=0.01*z\n",
        "      f_dash_z = (f(z+z1)-f(z-z1))/(2*z1)\n",
        "      print(f_dash_z)\n",
        "      if abs(f_dash_z)<e:\n",
        "         break\n",
        "      elif f_dash_z <0:\n",
        "           a=z\n",
        "      else:\n",
        "           b=z\n",
        "      maxiter=maxiter-1\n",
        "    \n",
        "print(\"minimum is at \",a,z)"
      ],
      "metadata": {
        "colab": {
          "base_uri": "https://localhost:8080/"
        },
        "id": "UH0EpcimYIXo",
        "outputId": "6fc10b72-7202-43de-fc1d-44b7b07e4d9b"
      },
      "execution_count": null,
      "outputs": [
        {
          "output_type": "stream",
          "name": "stdout",
          "text": [
            "******** SVO Secant Method *********\n",
            "enter lower bound4\n",
            "enter upper bound5\n",
            "enter epsilon0.5\n",
            "4.039245772697044\n",
            "0.01712795374177773\n",
            "minimum is at  4 4.039245772697044\n"
          ]
        }
      ]
    },
    {
      "cell_type": "markdown",
      "source": [
        "Gradient Based Method (SVO-Newtons Method)"
      ],
      "metadata": {
        "id": "Wjt3LbvodQDY"
      }
    },
    {
      "cell_type": "code",
      "source": [
        "def newton(f,Df,x0,epsilon,max_iter):\n",
        "    '''Approximate solution of f(x)=0 by Newton's method.\n",
        "\n",
        "    Parameters\n",
        "    ----------\n",
        "    f : function\n",
        "        Function for which we are searching for a solution f(x)=0.\n",
        "    Df : function\n",
        "        Derivative of f(x).\n",
        "    x0 : number\n",
        "        Initial guess for a solution f(x)=0.\n",
        "    epsilon : number\n",
        "        Stopping criteria is abs(f(x)) < epsilon.\n",
        "    max_iter : integer\n",
        "        Maximum number of iterations of Newton's method.\n",
        "\n",
        "    Returns\n",
        "    -------\n",
        "    xn : number\n",
        "        Implement Newton's method: compute the linear approximation\n",
        "        of f(x) at xn and find x intercept by the formula\n",
        "            x = xn - f(xn)/Df(xn)\n",
        "        Continue until abs(f(xn)) < epsilon and return xn.\n",
        "        If Df(xn) == 0, return None. If the number of iterations\n",
        "        exceeds max_iter, then return None.\n",
        "\n",
        "    Examples\n",
        "    --------\n",
        "    >>> f = lambda x: x**2 - x - 1\n",
        "    >>> Df = lambda x: 2*x - 1\n",
        "    >>> newton(f,Df,1,1e-8,10)\n",
        "    Found solution after 5 iterations.\n",
        "    1.618033988749989\n",
        "    '''\n",
        "    xn = x0\n",
        "    for n in range(0,max_iter):\n",
        "        fxn = f(xn)\n",
        "        if abs(fxn) < epsilon:\n",
        "            print('Found solution after',n,'iterations.')\n",
        "            return xn\n",
        "        Dfxn = Df(xn)\n",
        "        if Dfxn == 0:\n",
        "            print('Zero derivative. No solution found.')\n",
        "            return None\n",
        "        xn = xn - fxn/Dfxn\n",
        "    print('Exceeded maximum iterations. No solution found.')\n",
        "    return None\n",
        "p = lambda x: x**4 - x - 1\n",
        "Dp = lambda x: 4*x**3-1\n",
        "#ddp=lambda\n",
        "approx = newton(p,Dp,1,0.01,10)\n",
        "print(approx)"
      ],
      "metadata": {
        "colab": {
          "base_uri": "https://localhost:8080/"
        },
        "id": "QYiC0LcvdOCp",
        "outputId": "54ae975e-b1a3-4ce9-f80d-284ceedae1c7"
      },
      "execution_count": null,
      "outputs": [
        {
          "output_type": "stream",
          "name": "stdout",
          "text": [
            "Found solution after 3 iterations.\n",
            "1.2210589943287204\n"
          ]
        }
      ]
    },
    {
      "cell_type": "code",
      "source": [
        "import math\n",
        "def newton(f,Df,x0,epsilon,max_iter):\n",
        "    '''Approximate solution of f(x)=0 by Newton's method.\n",
        "\n",
        "    Parameters\n",
        "    ----------\n",
        "    f : function\n",
        "        Function for which we are searching for a solution f(x)=0.\n",
        "    Df : function\n",
        "        Derivative of f(x).\n",
        "    x0 : number\n",
        "        Initial guess for a solution f(x)=0.\n",
        "    epsilon : number\n",
        "        Stopping criteria is abs(f(x)) < epsilon.\n",
        "    max_iter : integer\n",
        "        Maximum number of iterations of Newton's method.\n",
        "\n",
        "    Returns\n",
        "    -------\n",
        "    xn : number\n",
        "        Implement Newton's method: compute the linear approximation\n",
        "        of f(x) at xn and find x intercept by the formula\n",
        "            x = xn - f(xn)/Df(xn)\n",
        "        Continue until abs(f(xn)) < epsilon and return xn.\n",
        "        If Df(xn) == 0, return None. If the number of iterations\n",
        "        exceeds max_iter, then return None.\n",
        "\n",
        "    Examples\n",
        "    --------\n",
        "    >>> f = lambda x: x**2 - x - 1\n",
        "    >>> Df = lambda x: 2*x - 1\n",
        "    >>> newton(f,Df,1,1e-8,10)\n",
        "    Found solution after 5 iterations.\n",
        "    1.618033988749989\n",
        "    '''\n",
        "    xn = x0\n",
        "    for n in range(0,max_iter):\n",
        "        fxn = f(xn)\n",
        "        if abs(fxn) < epsilon:\n",
        "            print('Found solution after',n,'iterations.')\n",
        "            return xn\n",
        "        Dfxn = Df(xn)\n",
        "        if Dfxn == 0:\n",
        "            print('Zero derivative. No solution found.')\n",
        "            return None\n",
        "        xn = xn - fxn/Dfxn\n",
        "    print('Exceeded maximum iterations. No solution found.')\n",
        "    return None\n",
        "p = lambda x: math.sin(x)+4*x**2\n",
        "Dp = lambda x: math.cos(x)+8**x\n",
        "#ddp=lambda\n",
        "approx = newton(p,Dp,0,0.0001,1000)\n",
        "print(approx)"
      ],
      "metadata": {
        "colab": {
          "base_uri": "https://localhost:8080/"
        },
        "id": "m4z43LqmIJiG",
        "outputId": "2ac74d53-f5f0-4933-91de-10bf8837dbac"
      },
      "execution_count": null,
      "outputs": [
        {
          "output_type": "stream",
          "name": "stdout",
          "text": [
            "Found solution after 0 iterations.\n",
            "0\n"
          ]
        }
      ]
    },
    {
      "cell_type": "markdown",
      "source": [
        "Multivariable Optimization Algorithm Gradient (Steepest) DEcent Method\n",
        "\n",
        "Ex: Apply Three iterations of steepest descent method to find minimum of f(x,y)=2x^2-2xy+y^2 from point(1,2)\n",
        "\n"
      ],
      "metadata": {
        "id": "mhnjEYJ9QgDM"
      }
    },
    {
      "cell_type": "code",
      "source": [
        "print(\"**********Gradient (Steepest) DEcent Method - MVO-Algo*********\")\n",
        "\n",
        "\n",
        "def f(x,y):\n",
        "  return 2*x**2-2*x*y+y**2\n",
        "\n",
        "x = int(input ('Enter the initial guess of x: '))\n",
        "y = int(input ('Enter the initial guess of y: '))\n",
        "a = float(input ('Enter the learning rate: '))\n",
        "#%% Starting the algorithm\n",
        "for i in range(1,4):\n",
        "  z=f(x,y)\n",
        "  x1 = x + .000001 * x\n",
        "  y1 = y + .000001 * y\n",
        "  zx=f(x1,y)\n",
        "  zy=f(x,y1)\n",
        "  del_fx = (zx-z)/(.000001*x) #% The partial derivative w.r.t x at the chosen point of the user\n",
        "  del_fy = (zy-z)/(.000001*y) #% The partial derivative w.r.t y at the chosen point of the user\n",
        "  x_new = x - a*del_fx\n",
        "  y_new = y - a*del_fy\n",
        "  x = x_new;\n",
        "  y = y_new; \n",
        "print(\"The minimum values of the variables x & y are respectively: \",x,y)"
      ],
      "metadata": {
        "colab": {
          "base_uri": "https://localhost:8080/"
        },
        "id": "Ib6XRd0-xIxI",
        "outputId": "c4237087-38d4-49c1-fd55-fe619f941fe1"
      },
      "execution_count": null,
      "outputs": [
        {
          "output_type": "stream",
          "name": "stdout",
          "text": [
            "**********Gradient (Steepest) DEcent Method - MVO-Algo*********\n",
            "Enter the initial guess of x: 1\n",
            "Enter the initial guess of y: 2\n",
            "Enter the learning rate: 0.1\n",
            "The minimum values of the variables x & y are respectively:  0.9039995160094939 1.5039994600013424\n"
          ]
        }
      ]
    }
  ]
}